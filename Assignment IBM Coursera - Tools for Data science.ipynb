{
 "cells": [
  {
   "cell_type": "markdown",
   "id": "dd5d4dd2-a523-444c-af88-98c616c140d8",
   "metadata": {},
   "source": [
    "# My Jupyter Notebook on IBM Watson Studio"
   ]
  },
  {
   "cell_type": "markdown",
   "id": "7c15a3e7-e90c-44c5-aded-21a3e4b3a0fd",
   "metadata": {},
   "source": [
    "**Yusuff Misbaudeen Adeshina**\n",
    "\n",
    "Digital Marketing of Hastom Nigeria."
   ]
  },
  {
   "cell_type": "markdown",
   "id": "80b518ff-e65a-4a4f-987c-05984ebf5142",
   "metadata": {},
   "source": [
    "*I am interested in data science because Data is Life. The second reason why I am interested in data science is because after learning about data analysis, I became obsessed with data and the opportunities that comes with it.*"
   ]
  },
  {
   "cell_type": "markdown",
   "id": "ff531cf9-2179-4590-b485-648c22525863",
   "metadata": {},
   "source": [
    "### My code in cell 5 will be adding 5 plus 5 and showing the result"
   ]
  },
  {
   "cell_type": "code",
   "execution_count": 3,
   "id": "db0ad947-5aa8-4ffe-94ce-3eb25490e6c7",
   "metadata": {},
   "outputs": [
    {
     "data": {
      "text/plain": [
       "10"
      ]
     },
     "execution_count": 3,
     "metadata": {},
     "output_type": "execute_result"
    }
   ],
   "source": [
    "5 + 5"
   ]
  },
  {
   "cell_type": "markdown",
   "id": "7e3fa2aa-b17b-4462-aaa6-6c07df45740d",
   "metadata": {},
   "source": [
    "<a href=\"https://korablog.net/wp-content/uploads/2022/09/aDS10.jpeg\">Learn How To be Financial Literate</a>\n",
    "\n",
    "~~Be Financialy Literate~~\n",
    "\n",
    "<img src=\"https://korablog.net/wp-content/uploads/2022/09/aDS10.jpeg\n",
    "\" alt=\"Man On Phone\" />"
   ]
  }
 ],
 "metadata": {
  "kernelspec": {
   "display_name": "Python",
   "language": "python",
   "name": "conda-env-python-py"
  },
  "language_info": {
   "codemirror_mode": {
    "name": "ipython",
    "version": 3
   },
   "file_extension": ".py",
   "mimetype": "text/x-python",
   "name": "python",
   "nbconvert_exporter": "python",
   "pygments_lexer": "ipython3",
   "version": "3.7.12"
  }
 },
 "nbformat": 4,
 "nbformat_minor": 5
}
